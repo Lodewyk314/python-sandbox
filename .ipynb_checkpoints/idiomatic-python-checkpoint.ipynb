{
 "cells": [
  {
   "cell_type": "code",
   "execution_count": null,
   "metadata": {},
   "outputs": [],
   "source": [
    "# Don't do this\n",
    "\n",
    "# Do this"
   ]
  },
  {
   "cell_type": "code",
   "execution_count": 2,
   "metadata": {},
   "outputs": [
    {
     "name": "stdout",
     "output_type": "stream",
     "text": [
      "1\n",
      "4\n",
      "9\n",
      "16\n",
      "25\n",
      "0\n",
      "1\n",
      "4\n",
      "9\n",
      "16\n",
      "25\n"
     ]
    }
   ],
   "source": [
    "# Looping over a range of numbers\n",
    "\n",
    "# In Python 3 these are not the same; the 2nd does not store the list in memory.\n",
    "\n",
    "for i in [1, 2, 3, 4, 5]:\n",
    "    print(i**2)\n",
    "    \n",
    "for i in range(6):\n",
    "    print(i**2)"
   ]
  },
  {
   "cell_type": "code",
   "execution_count": 5,
   "metadata": {},
   "outputs": [
    {
     "name": "stdout",
     "output_type": "stream",
     "text": [
      "red\n",
      "green\n",
      "blue\n",
      "yellow\n",
      "red\n",
      "green\n",
      "blue\n",
      "yellow\n"
     ]
    }
   ],
   "source": [
    "# Looping over a collection\n",
    "\n",
    "colors = ['red', 'green', 'blue', 'yellow']\n",
    "\n",
    "for i in range(len(colors)):\n",
    "    print(colors[i])\n",
    "    \n",
    "for color in colors:\n",
    "    print(color)"
   ]
  },
  {
   "cell_type": "code",
   "execution_count": 12,
   "metadata": {},
   "outputs": [
    {
     "name": "stdout",
     "output_type": "stream",
     "text": [
      "yellow\n",
      "blue\n",
      "green\n",
      "red\n",
      "yellow\n",
      "blue\n",
      "green\n",
      "red\n"
     ]
    }
   ],
   "source": [
    "# Looping backwards\n",
    "\n",
    "colors = ['red', 'green', 'blue', 'yellow']\n",
    "\n",
    "for i in range(len(colors)-1, -1, -1):\n",
    "    print(colors[i])\n",
    "    \n",
    "for color in reversed(colors):\n",
    "    print(color)\n"
   ]
  },
  {
   "cell_type": "code",
   "execution_count": 14,
   "metadata": {},
   "outputs": [
    {
     "name": "stdout",
     "output_type": "stream",
     "text": [
      "0 --> red\n",
      "1 --> green\n",
      "2 --> blue\n",
      "3 --> yellow\n",
      "0 --> red\n",
      "1 --> green\n",
      "2 --> blue\n",
      "3 --> yellow\n"
     ]
    }
   ],
   "source": [
    "# Looping over a collection and indices\n",
    "\n",
    "colors = ['red', 'green', 'blue', 'yellow']\n",
    "\n",
    "for i in range(len(colors)):\n",
    "    print(i,'-->',colors[i])\n",
    "    \n",
    "for i, color in enumerate(colors):\n",
    "    print(i,'-->',color)"
   ]
  },
  {
   "cell_type": "code",
   "execution_count": 18,
   "metadata": {},
   "outputs": [
    {
     "name": "stdout",
     "output_type": "stream",
     "text": [
      "raymond --> red\n",
      "rachel --> green\n",
      "matthew --> blue\n",
      "raymond --> red\n",
      "rachel --> green\n",
      "matthew --> blue\n"
     ]
    }
   ],
   "source": [
    "# Looping over two collections\n",
    "\n",
    "names = ['raymond', 'rachel', 'matthew']\n",
    "colors = ['red', 'green', 'blue', 'yellow']\n",
    "\n",
    "n = min(len(names), len(colors))\n",
    "for i in range(n):\n",
    "    print(names[i],'-->',colors[i])\n",
    "    \n",
    "for name, color in zip(names, colors):\n",
    "    print(name,'-->',color)"
   ]
  },
  {
   "cell_type": "code",
   "execution_count": 20,
   "metadata": {},
   "outputs": [
    {
     "name": "stdout",
     "output_type": "stream",
     "text": [
      "blue\n",
      "green\n",
      "red\n",
      "yellow\n",
      "yellow\n",
      "red\n",
      "green\n",
      "blue\n"
     ]
    }
   ],
   "source": [
    "# Looping in sorted order\n",
    "\n",
    "colors = ['red', 'green', 'blue', 'yellow']\n",
    "\n",
    "for color in sorted(colors):\n",
    "    print(color)\n",
    "    \n",
    "for color in sorted(colors, reverse=True):\n",
    "    print(color)"
   ]
  },
  {
   "cell_type": "code",
   "execution_count": 23,
   "metadata": {},
   "outputs": [
    {
     "name": "stdout",
     "output_type": "stream",
     "text": [
      "['red', 'blue', 'green', 'yellow']\n"
     ]
    }
   ],
   "source": [
    "# Custom sort order\n",
    "\n",
    "def compare_length(c1, c2):\n",
    "    if len(c1) < len(c2): return -1\n",
    "    if len(c1) > len(c2): return 1\n",
    "    return 0\n",
    "\n",
    "# The old way; doesn't work in Python 3:\n",
    "# print(sorted(colors, cmp=compare_length))\n",
    "\n",
    "print(sorted(colors, key=len))"
   ]
  },
  {
   "cell_type": "code",
   "execution_count": null,
   "metadata": {},
   "outputs": [],
   "source": []
  }
 ],
 "metadata": {
  "kernelspec": {
   "display_name": "Python 3",
   "language": "python",
   "name": "python3"
  },
  "language_info": {
   "codemirror_mode": {
    "name": "ipython",
    "version": 3
   },
   "file_extension": ".py",
   "mimetype": "text/x-python",
   "name": "python",
   "nbconvert_exporter": "python",
   "pygments_lexer": "ipython3",
   "version": "3.7.4"
  }
 },
 "nbformat": 4,
 "nbformat_minor": 2
}
